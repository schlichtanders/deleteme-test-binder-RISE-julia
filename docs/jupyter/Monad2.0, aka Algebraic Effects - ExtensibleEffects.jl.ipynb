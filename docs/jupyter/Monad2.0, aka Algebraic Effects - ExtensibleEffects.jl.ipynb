{
 "cells": [
  {
   "cell_type": "markdown",
   "id": "e884a1a1",
   "metadata": {
    "slideshow": {
     "slide_type": "slide"
    }
   },
   "source": [
    "# Monads 2.0, aka Algebraic Effects: ExtensibleEffects.jl\n",
    "\n",
    "an introduction to Monads, their downsides, and their next generation\n",
    "\n",
    "by Stephan Sahm, stephan.sahm@gmx.de"
   ]
  },
  {
   "cell_type": "markdown",
   "id": "223f127b",
   "metadata": {
    "cell_style": "center",
    "slideshow": {
     "slide_type": "-"
    }
   },
   "source": [
    "## Outline\n",
    "* Working with Monads\n",
    "* Limitations of Monads\n",
    "* Extensible Effects - How they work\n",
    "* Extensible Effects - How to define your own\n",
    "* Extensible Effects - more"
   ]
  },
  {
   "cell_type": "markdown",
   "id": "b669125d",
   "metadata": {
    "cell_style": "split",
    "slideshow": {
     "slide_type": "subslide"
    }
   },
   "source": [
    "<img src=\"images/jakobsweg-fisterra-fokus.png\"\n",
    "     alt=\"Stephan Sahm\"\n",
    "     style=\"float: right; margin-right: 3em\"\n",
    "     width=\"50%\"/>"
   ]
  },
  {
   "cell_type": "markdown",
   "id": "64075f63",
   "metadata": {
    "cell_style": "split",
    "slideshow": {
     "slide_type": "-"
    }
   },
   "source": [
    "### Stephan Sahm\n",
    "\n",
    "- freelancer\n",
    "- end-to-end Data & AI consultant\n",
    "- organizer of Julia User Group Munich\n",
    "\n",
    "### key interests\n",
    "- professional best practices\n",
    "- probabilistic programming\n",
    "- functional programming"
   ]
  },
  {
   "cell_type": "markdown",
   "id": "49e2a6e2",
   "metadata": {
    "cell_style": "center",
    "slideshow": {
     "slide_type": "slide"
    }
   },
   "source": [
    "# Let's start simple\n",
    "\n",
    "The key idea behind Monads is to **encapsulate a computational context**\n",
    "<br>\n",
    "simplifying our daily programming"
   ]
  },
  {
   "cell_type": "markdown",
   "id": "fc94e196",
   "metadata": {
    "cell_style": "center",
    "slideshow": {
     "slide_type": "subslide"
    }
   },
   "source": [
    "Loving context managers, let's encapsulate **construction (aka enter)** and **destruction (aka exit)**"
   ]
  },
  {
   "cell_type": "code",
   "execution_count": 1,
   "id": "d70f66f6",
   "metadata": {
    "cell_style": "center"
   },
   "outputs": [],
   "source": [
    "struct MyContextManager\n",
    "  implementation\n",
    "end\n",
    "(context::MyContextManager)(continuation) = context.implementation(continuation)"
   ]
  },
  {
   "cell_type": "code",
   "execution_count": 2,
   "id": "e465b71a",
   "metadata": {
    "cell_style": "center"
   },
   "outputs": [
    {
     "data": {
      "text/plain": [
       "MyContextManager(var\"#1#2\"())"
      ]
     },
     "execution_count": 2,
     "metadata": {},
     "output_type": "execute_result"
    }
   ],
   "source": [
    "context = MyContextManager(continuation -> begin\n",
    "    println(\"construction\")\n",
    "    x = 42\n",
    "    result = continuation(x)\n",
    "    println(\"destruction\")\n",
    "    result\n",
    "end)"
   ]
  },
  {
   "cell_type": "code",
   "execution_count": 3,
   "id": "e3ce1f46",
   "metadata": {},
   "outputs": [
    {
     "name": "stdout",
     "output_type": "stream",
     "text": [
      "construction\n",
      "42\n",
      "destruction\n"
     ]
    }
   ],
   "source": [
    "context(println)"
   ]
  },
  {
   "cell_type": "code",
   "execution_count": 4,
   "id": "0cbe39e4",
   "metadata": {},
   "outputs": [
    {
     "name": "stdout",
     "output_type": "stream",
     "text": [
      "construction\n",
      "42\n",
      "destruction\n"
     ]
    },
    {
     "data": {
      "text/plain": [
       "42"
      ]
     },
     "execution_count": 4,
     "metadata": {},
     "output_type": "execute_result"
    }
   ],
   "source": [
    "context() do inner_value\n",
    "    println(inner_value)\n",
    "    inner_value\n",
    "end"
   ]
  },
  {
   "cell_type": "markdown",
   "id": "b0f5bd2c",
   "metadata": {
    "slideshow": {
     "slide_type": "subslide"
    }
   },
   "source": [
    "# How to work with such a computational context?\n",
    "\n",
    "Situation: given a function `f` we want to apply it to our `42` encapsulated in our `context`.\n",
    "\n",
    "😬 *on a first glance this looks impressively impossible*\n",
    "\n",
    "😀 *but actually we can*\n",
    "\n",
    "and by convention we store our logic in the higher-order function named `map`"
   ]
  },
  {
   "cell_type": "code",
   "execution_count": 5,
   "id": "6995dafb",
   "metadata": {
    "slideshow": {
     "slide_type": "fragment"
    }
   },
   "outputs": [],
   "source": [
    "Base.map(f, context::MyContextManager) = MyContextManager(continuation -> begin\n",
    "  context() do inner_value\n",
    "    continuation(f(inner_value))\n",
    "  end\n",
    "end)"
   ]
  },
  {
   "cell_type": "code",
   "execution_count": 6,
   "id": "27f3b171",
   "metadata": {
    "slideshow": {
     "slide_type": "fragment"
    }
   },
   "outputs": [
    {
     "name": "stdout",
     "output_type": "stream",
     "text": [
      "construction\n",
      "84\n",
      "destruction\n"
     ]
    }
   ],
   "source": [
    "context_doubled = map(x -> 2x, context)\n",
    "context_doubled = map(context) do x\n",
    "    2x\n",
    "end\n",
    "context_doubled(println)"
   ]
  },
  {
   "cell_type": "markdown",
   "id": "e15aa2b9",
   "metadata": {
    "slideshow": {
     "slide_type": "fragment"
    }
   },
   "source": [
    "<div style=\"text-align: right\"> 👏 it works 👏 </div>"
   ]
  },
  {
   "cell_type": "markdown",
   "id": "0d7b43a6",
   "metadata": {
    "slideshow": {
     "slide_type": "subslide"
    }
   },
   "source": [
    "# One step left: Combining multiple contexts"
   ]
  },
  {
   "cell_type": "code",
   "execution_count": 7,
   "id": "1840b9d4",
   "metadata": {},
   "outputs": [
    {
     "name": "stdout",
     "output_type": "stream",
     "text": [
      "construction\n",
      "MyContextManager(var\"#13#14\"{Int64}(42))\n",
      "destruction\n"
     ]
    }
   ],
   "source": [
    "f_context(x) = MyContextManager(continuation -> begin\n",
    "    println(\"before\")\n",
    "    y = 1111\n",
    "    result = continuation(x+y)\n",
    "    println(\"after\")\n",
    "    result\n",
    "end)\n",
    "\n",
    "context_in_context = map(f_context, context)\n",
    "context_in_context(println)"
   ]
  },
  {
   "cell_type": "markdown",
   "id": "e7657895",
   "metadata": {},
   "source": [
    "we would like to **merge both contexts** together somehow... in literatur this merging is called *join* or *flatten*, hence...\n",
    "<br>\n",
    "such an enhanced `map` function is typically called `flatmap`"
   ]
  },
  {
   "cell_type": "code",
   "execution_count": 8,
   "id": "686617b8",
   "metadata": {
    "slideshow": {
     "slide_type": "fragment"
    }
   },
   "outputs": [],
   "source": [
    "using TypeClasses\n",
    "TypeClasses.flatmap(f_context, context::MyContextManager) = MyContextManager(continuation -> begin\n",
    "    context() do inner_value\n",
    "        inner_context = f_context(inner_value)\n",
    "        inner_context(continuation)\n",
    "    end\n",
    "end)"
   ]
  },
  {
   "cell_type": "code",
   "execution_count": 9,
   "id": "4b634d64",
   "metadata": {
    "cell_style": "split",
    "slideshow": {
     "slide_type": "fragment"
    }
   },
   "outputs": [
    {
     "name": "stdout",
     "output_type": "stream",
     "text": [
      "construction\n",
      "before\n",
      "1153\n",
      "after\n",
      "destruction\n"
     ]
    }
   ],
   "source": [
    "context_flattened = flatmap(f_context, context)\n",
    "context_flattened(println)"
   ]
  },
  {
   "cell_type": "markdown",
   "id": "7bb06676",
   "metadata": {
    "cell_style": "split",
    "slideshow": {
     "slide_type": "-"
    }
   },
   "source": [
    "<div style=\"text-align: right\"> 👏 it works 👏 </div>"
   ]
  },
  {
   "cell_type": "markdown",
   "id": "49d01ba8",
   "metadata": {
    "slideshow": {
     "slide_type": "subslide"
    }
   },
   "source": [
    "# Making everything nice and convenient\n",
    "\n",
    "That is it! Having `map` and `flatmap` defined, we get nice syntax for free, which just compiles to a combination of the two."
   ]
  },
  {
   "cell_type": "code",
   "execution_count": 10,
   "id": "8d6e0487",
   "metadata": {
    "cell_style": "split"
   },
   "outputs": [
    {
     "name": "stdout",
     "output_type": "stream",
     "text": [
      "construction\n",
      "before\n",
      "1153\n",
      "after\n",
      "destruction\n"
     ]
    }
   ],
   "source": [
    "context_flattened = TypeClasses.@syntax_flatmap begin\n",
    "    x = context\n",
    "    f_context(x)\n",
    "end\n",
    "context_flattened(println)"
   ]
  },
  {
   "cell_type": "code",
   "execution_count": 11,
   "id": "c6e7bc20",
   "metadata": {
    "cell_style": "split"
   },
   "outputs": [
    {
     "name": "stdout",
     "output_type": "stream",
     "text": [
      "construction\n",
      "before\n",
      "1153\n",
      "after\n",
      "destruction\n"
     ]
    }
   ],
   "source": [
    "context_flattened = TypeClasses.flatmap(((x,)->begin\n",
    "    f_context(x)\n",
    "end), context)\n",
    "context_flattened(println)"
   ]
  },
  {
   "cell_type": "markdown",
   "id": "e8c96ff4",
   "metadata": {
    "slideshow": {
     "slide_type": "fragment"
    }
   },
   "source": [
    "within `@syntax_flatmap` every normal row is interpreted as context and `map`/`flatmap` are used.\n",
    "<br>\n",
    "You can also mix this with normal computation, just mark the normal computations by the macro `@pure`."
   ]
  },
  {
   "cell_type": "code",
   "execution_count": 12,
   "id": "0d950575",
   "metadata": {
    "cell_style": "split"
   },
   "outputs": [
    {
     "name": "stdout",
     "output_type": "stream",
     "text": [
      "construction\n",
      "before\n",
      "(42, \"x = 42\", 1153)\n",
      "after\n",
      "destruction\n"
     ]
    }
   ],
   "source": [
    "context_complex = @syntax_flatmap begin\n",
    "    x = context\n",
    "    @pure s = \"x = $x\"\n",
    "    z = f_context(x)\n",
    "    # we can define another final return value by ending with @pure\n",
    "    @pure (x, s, z)\n",
    "end\n",
    "context_complex(println)"
   ]
  },
  {
   "cell_type": "code",
   "execution_count": 13,
   "id": "57583272",
   "metadata": {
    "cell_style": "split"
   },
   "outputs": [
    {
     "name": "stdout",
     "output_type": "stream",
     "text": [
      "construction\n",
      "before\n",
      "(42, \"x = 42\", 1153)\n",
      "after\n",
      "destruction\n"
     ]
    }
   ],
   "source": [
    "context_complex = TypeClasses.flatmap(((x,)->begin\n",
    "    s = \"x = $(x)\"\n",
    "    TypeClasses.map(((z,)->begin\n",
    "        (x, s, z)\n",
    "    end), f_context(x))\n",
    "end), context)\n",
    "context_complex(println)"
   ]
  },
  {
   "cell_type": "markdown",
   "id": "c7cb93bb",
   "metadata": {
    "slideshow": {
     "slide_type": "slide"
    }
   },
   "source": [
    "# Limitation of Monads: they don't compose well\n",
    "\n",
    "Here we have two monads (aka computational context): `Vector` and `ContextManager`"
   ]
  },
  {
   "cell_type": "code",
   "execution_count": 14,
   "id": "31f05217",
   "metadata": {
    "cell_style": "split"
   },
   "outputs": [
    {
     "data": {
      "text/plain": [
       "4-element Vector{Int64}:\n",
       " 103\n",
       " 203\n",
       " 107\n",
       " 207"
      ]
     },
     "execution_count": 14,
     "metadata": {},
     "output_type": "execute_result"
    }
   ],
   "source": [
    "# Vector are supported by TypeClasses\n",
    "# with for-loop interpretation\n",
    "@syntax_flatmap begin\n",
    "    a = [3, 7]\n",
    "    b = [100, 200]\n",
    "    @pure a + b\n",
    "end"
   ]
  },
  {
   "cell_type": "code",
   "execution_count": 15,
   "id": "f3bd6f01",
   "metadata": {
    "cell_style": "split"
   },
   "outputs": [
    {
     "name": "stdout",
     "output_type": "stream",
     "text": [
      "before 3\n",
      "before 10\n",
      "13\n",
      "after 10\n",
      "after 3\n"
     ]
    }
   ],
   "source": [
    "# MyContextManager is fully implemented in TypeClasses\n",
    "create_context(x) = @ContextManager continuation -> begin\n",
    "    println(\"before $x\")\n",
    "    result = continuation(x)\n",
    "    println(\"after $x\")\n",
    "    result\n",
    "end\n",
    "context = @syntax_flatmap begin\n",
    "    a = create_context(3)\n",
    "    b = create_context(10)\n",
    "    @pure a + b\n",
    "end\n",
    "context(println)"
   ]
  },
  {
   "cell_type": "markdown",
   "id": "922ee6b7",
   "metadata": {},
   "source": [
    "Let's compose them!"
   ]
  },
  {
   "cell_type": "code",
   "execution_count": 16,
   "id": "0f3943f3",
   "metadata": {
    "cell_style": "split",
    "slideshow": {
     "slide_type": "fragment"
    }
   },
   "outputs": [
    {
     "name": "stdout",
     "output_type": "stream",
     "text": [
      "before 100\n",
      "after 100\n",
      "before 200\n",
      "after 200\n"
     ]
    },
    {
     "data": {
      "text/plain": [
       "2-element Vector{Int64}:\n",
       " 200\n",
       " 400"
      ]
     },
     "execution_count": 16,
     "metadata": {},
     "output_type": "execute_result"
    }
   ],
   "source": [
    "@syntax_flatmap begin\n",
    "    a = [100, 200]\n",
    "    # contextmanager is converted to Vector by simply running it\n",
    "    b = create_context(a)\n",
    "    @pure a + b\n",
    "end"
   ]
  },
  {
   "cell_type": "code",
   "execution_count": 17,
   "id": "31c6caa2",
   "metadata": {
    "cell_style": "split",
    "slideshow": {
     "slide_type": "-"
    }
   },
   "outputs": [
    {
     "name": "stdout",
     "output_type": "stream",
     "text": [
      "before 7\n"
     ]
    },
    {
     "ename": "LoadError",
     "evalue": "MethodError: \u001b[0mCannot `convert` an object of type \n\u001b[0m  \u001b[92mVector{Int64}\u001b[39m\u001b[0m to an object of type \n\u001b[0m  \u001b[91mContextManager\u001b[39m\n\u001b[0mClosest candidates are:\n\u001b[0m  convert(::Type{var\"#s9\"} where var\"#s9\"<:ContextManager, \u001b[91m::Identity\u001b[39m) at /home/ssahm/.julia/dev/DataTypesBasic/src/convert.jl:34\n\u001b[0m  convert(::Type{var\"#s28\"} where var\"#s28\"<:ContextManager, \u001b[91m::Writer\u001b[39m) at /home/ssahm/.julia/dev/TypeClasses/src/convert.jl:18\n\u001b[0m  convert(::Type{T}, \u001b[91m::T\u001b[39m) where T at essentials.jl:205\n\u001b[0m  ...",
     "output_type": "error",
     "traceback": [
      "MethodError: \u001b[0mCannot `convert` an object of type \n\u001b[0m  \u001b[92mVector{Int64}\u001b[39m\u001b[0m to an object of type \n\u001b[0m  \u001b[91mContextManager\u001b[39m\n\u001b[0mClosest candidates are:\n\u001b[0m  convert(::Type{var\"#s9\"} where var\"#s9\"<:ContextManager, \u001b[91m::Identity\u001b[39m) at /home/ssahm/.julia/dev/DataTypesBasic/src/convert.jl:34\n\u001b[0m  convert(::Type{var\"#s28\"} where var\"#s28\"<:ContextManager, \u001b[91m::Writer\u001b[39m) at /home/ssahm/.julia/dev/TypeClasses/src/convert.jl:18\n\u001b[0m  convert(::Type{T}, \u001b[91m::T\u001b[39m) where T at essentials.jl:205\n\u001b[0m  ...",
      "",
      "Stacktrace:",
      "  [1] (::DataTypesBasic.var\"#8#10\"{typeof(println)})(inner_contextmanager::Vector{Int64})",
      "    @ DataTypesBasic ~/.julia/dev/DataTypesBasic/src/ContextManager.jl:99",
      "  [2] (::DataTypesBasic.var\"#4#6\"{DataTypesBasic.var\"#8#10\"{typeof(println)}, var\"#45#47\"})(x::Int64)",
      "    @ DataTypesBasic ~/.julia/dev/DataTypesBasic/src/ContextManager.jl:93",
      "  [3] (::var\"#35#36\"{Int64})(continuation::DataTypesBasic.var\"#4#6\"{DataTypesBasic.var\"#8#10\"{typeof(println)}, var\"#45#47\"})",
      "    @ Main ./In[15]:4",
      "  [4] (::ContextManager{var\"#35#36\"{Int64}})(cont::Function)",
      "    @ DataTypesBasic ~/.julia/dev/DataTypesBasic/src/ContextManager.jl:77",
      "  [5] #3",
      "    @ ~/.julia/dev/DataTypesBasic/src/ContextManager.jl:93 [inlined]",
      "  [6] ContextManager",
      "    @ ~/.julia/dev/DataTypesBasic/src/ContextManager.jl:77 [inlined]",
      "  [7] #7",
      "    @ ~/.julia/dev/DataTypesBasic/src/ContextManager.jl:98 [inlined]",
      "  [8] (::ContextManager{DataTypesBasic.var\"#7#9\"{ContextManager{DataTypesBasic.var\"#3#5\"{var\"#45#47\", ContextManager{var\"#35#36\"{Int64}}}}}})(cont::Function)",
      "    @ DataTypesBasic ~/.julia/dev/DataTypesBasic/src/ContextManager.jl:77",
      "  [9] top-level scope",
      "    @ In[17]:6",
      " [10] eval",
      "    @ ./boot.jl:360 [inlined]",
      " [11] include_string(mapexpr::typeof(REPL.softscope), mod::Module, code::String, filename::String)",
      "    @ Base ./loading.jl:1094"
     ]
    }
   ],
   "source": [
    "context_composition = @syntax_flatmap begin\n",
    "    a = create_context(7)\n",
    "    b = [100, 200]\n",
    "    @pure a + b\n",
    "end\n",
    "context_composition(println)"
   ]
  },
  {
   "cell_type": "markdown",
   "id": "b48793df",
   "metadata": {
    "slideshow": {
     "slide_type": "slide"
    }
   },
   "source": [
    "# ExtensibleEffects.jl\n",
    "\n",
    "There is a lot of theory developed around this problem of composing computational contexts.\n",
    "- **Monad-Transformers:** difficult to port to Julia, and don't compose well\n",
    "- **Algebraic / Extensible Effects:** compose impressively well, but also have some limitations\n",
    "\n",
    "ExtensibleEffects.jl implements Extensible Effects following the paper [Freer Monads, More Extensible Effects](http://okmij.org/ftp/Haskell/extensible/more.pdf) which already has an [Haskell implementation](https://hackage.haskell.org/package/freer-effects) as well as a [Scala implementation](https://github.com/atnos-org/eff)."
   ]
  },
  {
   "cell_type": "code",
   "execution_count": 18,
   "id": "e238f9f6",
   "metadata": {
    "cell_style": "center",
    "slideshow": {
     "slide_type": "fragment"
    }
   },
   "outputs": [
    {
     "name": "stdout",
     "output_type": "stream",
     "text": [
      "before 7\n",
      "[107, 207]\n",
      "after 7\n"
     ]
    }
   ],
   "source": [
    "using ExtensibleEffects\n",
    "context_composition = @runcontextmanager @runhandlers (Vector,) @syntax_eff_noautorun begin\n",
    "    a = create_context(7)\n",
    "    b = [100, 200]\n",
    "    @pure a + b\n",
    "end\n",
    "context_composition(println)"
   ]
  },
  {
   "cell_type": "code",
   "execution_count": 19,
   "id": "fc6b62d4",
   "metadata": {
    "slideshow": {
     "slide_type": "-"
    }
   },
   "outputs": [
    {
     "name": "stdout",
     "output_type": "stream",
     "text": [
      "before 100\n",
      "before 200\n",
      "[200, 400]\n",
      "after 200\n",
      "after 100\n"
     ]
    }
   ],
   "source": [
    "context_composition2 = @runcontextmanager @runhandlers (Vector,) @syntax_eff_noautorun begin\n",
    "    a = [100, 200]\n",
    "    b = create_context(a)\n",
    "    @pure a + b\n",
    "end\n",
    "context_composition2(println)"
   ]
  },
  {
   "cell_type": "markdown",
   "id": "0a8533f7",
   "metadata": {
    "cell_style": "center"
   },
   "source": [
    "<div style=\"text-align: right\"> 👏 it works 👏 </div>"
   ]
  },
  {
   "cell_type": "markdown",
   "id": "44d49f78",
   "metadata": {
    "slideshow": {
     "slide_type": "subslide"
    }
   },
   "source": [
    "# How does it work?\n",
    "\n",
    "using `@macroexpand` we can see what is happening"
   ]
  },
  {
   "cell_type": "code",
   "execution_count": 20,
   "id": "6936aeb2",
   "metadata": {
    "cell_style": "split"
   },
   "outputs": [
    {
     "data": {
      "text/plain": [
       "Eff(value=ContextManager{var\"#35#36\"{Int64}}(var\"#35#36\"{Int64}(7)), length(cont)=1)"
      ]
     },
     "execution_count": 20,
     "metadata": {},
     "output_type": "execute_result"
    }
   ],
   "source": [
    "eff = @syntax_eff_noautorun begin\n",
    "    a = create_context(7)\n",
    "    b = [100, 200]\n",
    "    @pure a + b\n",
    "end"
   ]
  },
  {
   "cell_type": "code",
   "execution_count": 21,
   "id": "5fcab4d7",
   "metadata": {
    "cell_style": "split"
   },
   "outputs": [
    {
     "data": {
      "text/plain": [
       "Eff(value=ContextManager{var\"#35#36\"{Int64}}(var\"#35#36\"{Int64}(7)), length(cont)=1)"
      ]
     },
     "execution_count": 21,
     "metadata": {},
     "output_type": "execute_result"
    }
   ],
   "source": [
    "TypeClasses.flatmap(((a,)->begin\n",
    "    TypeClasses.map(((b,)->begin\n",
    "        a + b\n",
    "    end), ExtensibleEffects.effect([100, 200]))\n",
    "end), ExtensibleEffects.effect(create_context(7)))"
   ]
  },
  {
   "cell_type": "markdown",
   "id": "7d329c2d",
   "metadata": {
    "cell_style": "split"
   },
   "source": [
    "-------------"
   ]
  },
  {
   "cell_type": "markdown",
   "id": "d04fed76",
   "metadata": {
    "cell_style": "split"
   },
   "source": [
    "- [same as for `@syntax_flatmap`] <br> every `=` is parsed as `flatmap` or `map`\n",
    "- [**NEW**] every effect is wrapped with `ExtensibleEffects.effect`"
   ]
  },
  {
   "cell_type": "code",
   "execution_count": 22,
   "id": "8ed489dc",
   "metadata": {
    "cell_style": "split"
   },
   "outputs": [
    {
     "data": {
      "text/plain": [
       "Eff(value=[100, 200], length(cont)=0)"
      ]
     },
     "execution_count": 22,
     "metadata": {},
     "output_type": "execute_result"
    }
   ],
   "source": [
    "# effect makes sure we have an Eff type\n",
    "ExtensibleEffects.effect([100, 200])"
   ]
  },
  {
   "cell_type": "markdown",
   "id": "e9789a6f",
   "metadata": {
    "cell_style": "split"
   },
   "source": [
    "# Everything is wrapped into the type `Eff` for later (\"lazy\") execution\n",
    "\n",
    "# Nothing is executed first"
   ]
  },
  {
   "cell_type": "markdown",
   "id": "08bf3545",
   "metadata": {
    "slideshow": {
     "slide_type": "subslide"
    }
   },
   "source": [
    "# Eff\n",
    "\n",
    "The `Eff` type is very simple: It just stores the **value** and the **continuation** which leads to the next `Eff`."
   ]
  },
  {
   "cell_type": "code",
   "execution_count": 23,
   "id": "c1a57783",
   "metadata": {},
   "outputs": [],
   "source": [
    "# slight simplification of the real type\n",
    "struct Eff′{Effectful, Continuation}\n",
    "    value::Effectful\n",
    "    cont::Continuation  # just a function, which returns another Eff\n",
    "end\n",
    "# for performance improvements the `Continuation` is internally represented \n",
    "# as a list of functions which get composed (instead of a single composed function)"
   ]
  },
  {
   "cell_type": "markdown",
   "id": "01a6ad16",
   "metadata": {},
   "source": [
    "# Running Eff - Handlers\n",
    "\n",
    "The effects can be evaluated in kind of every order (not 100% true, but almost)"
   ]
  },
  {
   "cell_type": "code",
   "execution_count": 24,
   "id": "0ef3a51f",
   "metadata": {
    "cell_style": "split"
   },
   "outputs": [
    {
     "name": "stdout",
     "output_type": "stream",
     "text": [
      "eff.value = ContextManager{var\"#35#36\"{Int64}}(var\"#35#36\"{Int64}(7))\n",
      "\n",
      "eff.cont = ExtensibleEffects.Continuation{Tuple{var\"#61#63\"}}((var\"#61#63\"(),))\n"
     ]
    }
   ],
   "source": [
    "@show eff.value; println(); @show eff.cont;"
   ]
  },
  {
   "cell_type": "code",
   "execution_count": 25,
   "id": "a8627545",
   "metadata": {
    "cell_style": "split"
   },
   "outputs": [
    {
     "name": "stdout",
     "output_type": "stream",
     "text": [
      "eff′.value = ContextManager{var\"#35#36\"{Int64}}(var\"#35#36\"{Int64}(7))\n",
      "\n",
      "eff′.cont = ExtensibleEffects.Continuation{Tuple{ExtensibleEffects.var\"#6#8\"{UnionAll, ExtensibleEffects.Eff{ContextManager{var\"#35#36\"{Int64}}, Tuple{var\"#61#63\"}}}}}((ExtensibleEffects.var\"#6#8\"{UnionAll, ExtensibleEffects.Eff{ContextManager{var\"#35#36\"{Int64}}, Tuple{var\"#61#63\"}}}(Vector{T} where T, Eff(value=ContextManager{var\"#35#36\"{Int64}}(var\"#35#36\"{Int64}(7)), length(cont)=1)),))\n"
     ]
    }
   ],
   "source": [
    "eff′ = @runhandlers (Vector,) eff\n",
    "\n",
    "@show eff′.value; println(); @show eff′.cont;"
   ]
  },
  {
   "cell_type": "markdown",
   "id": "4da618dc",
   "metadata": {},
   "source": [
    "----------------\n",
    "- the value has not changed at all\n",
    "- the continuation changed, namely, **now every `Vector` will get executed in this continuation**"
   ]
  },
  {
   "cell_type": "markdown",
   "id": "64012b73",
   "metadata": {
    "slideshow": {
     "slide_type": "subslide"
    }
   },
   "source": [
    "# Running Eff - Handlers 2\n",
    "\n",
    "Let's see what happens if the first effect is `Vector`"
   ]
  },
  {
   "cell_type": "code",
   "execution_count": 26,
   "id": "efc55952",
   "metadata": {
    "cell_style": "split"
   },
   "outputs": [
    {
     "name": "stdout",
     "output_type": "stream",
     "text": [
      "eff2.value = [100, 200]\n",
      "\n",
      "length(eff2.cont.functions) = 1\n"
     ]
    }
   ],
   "source": [
    "eff2 = @syntax_eff_noautorun begin\n",
    "    a = [100, 200]\n",
    "    b = create_context(a)\n",
    "    @pure a + b\n",
    "end\n",
    "@show eff2.value; println(); @show length(eff2.cont.functions);"
   ]
  },
  {
   "cell_type": "code",
   "execution_count": 27,
   "id": "f0763169",
   "metadata": {
    "cell_style": "split"
   },
   "outputs": [
    {
     "name": "stdout",
     "output_type": "stream",
     "text": [
      "eff2′.value = ContextManager{var\"#35#36\"{Int64}}(var\"#35#36\"{Int64}(100))\n",
      "\n",
      "length(eff2′.cont.functions) = 5\n"
     ]
    }
   ],
   "source": [
    "eff2′ = @runhandlers (Vector,) eff2\n",
    "\n",
    "@show eff2′.value\n",
    "println()\n",
    "@show length(eff2′.cont.functions);"
   ]
  },
  {
   "cell_type": "markdown",
   "id": "5a570935",
   "metadata": {},
   "source": [
    "----------------\n",
    "- the value has changed\n",
    "    - [**NEW**] the original `Vector` was handled. The next unhandled effect appears, here the `ContextManager`\n",
    "- the continuation changed\n",
    "    - [same as before] every `Vector` will get executed in this continuation\n",
    "    - [**NEW**] one for each vector-element there is one separate continuation, which all are combined into one overall continuation"
   ]
  },
  {
   "cell_type": "markdown",
   "id": "b40d854a",
   "metadata": {
    "slideshow": {
     "slide_type": "subslide"
    }
   },
   "source": [
    "# What happened when we handled the original Vector?"
   ]
  },
  {
   "cell_type": "markdown",
   "id": "3850d25d",
   "metadata": {
    "cell_style": "split",
    "slideshow": {
     "slide_type": "-"
    }
   },
   "source": [
    "1. the Vector is `[100, 200]`"
   ]
  },
  {
   "cell_type": "code",
   "execution_count": 28,
   "id": "b09e7050",
   "metadata": {
    "cell_style": "split"
   },
   "outputs": [
    {
     "data": {
      "text/plain": [
       "2-element Vector{Int64}:\n",
       " 100\n",
       " 200"
      ]
     },
     "execution_count": 28,
     "metadata": {},
     "output_type": "execute_result"
    }
   ],
   "source": [
    "a = [100, 200]"
   ]
  },
  {
   "cell_type": "markdown",
   "id": "87ae6244",
   "metadata": {
    "cell_style": "split"
   },
   "source": [
    "2. for each element we run the continuation, each continuation returns an `Eff`"
   ]
  },
  {
   "cell_type": "code",
   "execution_count": 29,
   "id": "1fda82d2",
   "metadata": {
    "cell_style": "split"
   },
   "outputs": [],
   "source": [
    "continuation(a) = @syntax_eff_noautorun begin\n",
    "    b = create_context(a)\n",
    "    @pure a + b\n",
    "end\n",
    "a′ = map(continuation, a);"
   ]
  },
  {
   "cell_type": "markdown",
   "id": "fc1d17e6",
   "metadata": {
    "cell_style": "split"
   },
   "source": [
    "3. so we have one `Eff` encapsulating the result for 100, and another `Eff` which encapsulates the result for 200"
   ]
  },
  {
   "cell_type": "code",
   "execution_count": 30,
   "id": "a54d678d",
   "metadata": {
    "cell_style": "split"
   },
   "outputs": [
    {
     "data": {
      "text/plain": [
       "2-element Vector{ExtensibleEffects.Eff{ContextManager{var\"#35#36\"{Int64}}, Tuple{ComposedFunction{typeof(noeffect), var\"#73#74\"{Int64}}}}}:\n",
       " Eff(value=ContextManager{var\"#35#36\"{Int64}}(var\"#35#36\"{Int64}(100)), length(cont)=1)\n",
       " Eff(value=ContextManager{var\"#35#36\"{Int64}}(var\"#35#36\"{Int64}(200)), length(cont)=1)"
      ]
     },
     "execution_count": 30,
     "metadata": {},
     "output_type": "execute_result"
    }
   ],
   "source": [
    "(a′100, a′200) = a′"
   ]
  },
  {
   "cell_type": "markdown",
   "id": "546e920e",
   "metadata": {
    "cell_style": "split"
   },
   "source": [
    "4. treating `Eff` as computational context (aka Monad) in its own right, we can work **within** `Eff` (just like we have worked within `ContextManager`) and combine both `Eff` to a combined effect"
   ]
  },
  {
   "cell_type": "code",
   "execution_count": 31,
   "id": "36724fca",
   "metadata": {
    "cell_style": "split"
   },
   "outputs": [
    {
     "data": {
      "text/plain": [
       "Eff(value=ContextManager{var\"#35#36\"{Int64}}(var\"#35#36\"{Int64}(100)), length(cont)=2)"
      ]
     },
     "execution_count": 31,
     "metadata": {},
     "output_type": "execute_result"
    }
   ],
   "source": [
    "@syntax_flatmap begin\n",
    "    x = a′100\n",
    "    y = a′200\n",
    "    @pure [x, y]\n",
    "end"
   ]
  },
  {
   "cell_type": "markdown",
   "id": "4887aaa6",
   "metadata": {},
   "source": [
    "(The real implementation is slightly different, because Vector can be of arbitrary length, but you get the point.)"
   ]
  },
  {
   "cell_type": "markdown",
   "id": "ac56ea1e",
   "metadata": {
    "slideshow": {
     "slide_type": "slide"
    }
   },
   "source": [
    "# The Interface - How to define your own Effects?"
   ]
  },
  {
   "cell_type": "markdown",
   "id": "bb87967d",
   "metadata": {},
   "source": [
    "core function | description\n",
    "    ------------- | ------------\n",
    "    `ExtensibleEffects.eff_applies(handler::Type{<:Vector}, vec::Vector) = true` | specify on which values the handler applies (the handler Vector applies to Vector of course)\n",
    "    `ExtensibleEffects.eff_pure(handler::Type{<:Vector}, value) = [value]` | wrap a plain value into the Monad of the handler, here Vector.\n",
    "    `ExtensibleEffects.eff_flatmap(continuation, vec::Vector)` | apply a continuation to the current effect (here again Vector as an example). The key difference to plain `TypeClasses.flatmap` is that `continuation` does not return a plain `Vector`, but a `Eff{Vector}`. Applying this `continuation` with a plain `map` would lead `Vector{Eff{Vector}}`. However, `eff_flatmap` needs to return an `Eff{Vector}` instead."
   ]
  },
  {
   "cell_type": "markdown",
   "id": "583497dc",
   "metadata": {},
   "source": [
    "Thanks to `TypeClasses.jl` we can provide a generic interface which works out of the box for most types\n",
    "\n",
    "```julia\n",
    "function ExtensibleEffects.eff_pure(T, a)\n",
    "  TypeClasses.pure(T, a)\n",
    "end\n",
    "\n",
    "function ExtensibleEffects.eff_flatmap(continuation, a)\n",
    "  a_of_eff_of_a = map(continuation, a)\n",
    "  eff_of_a_of_a = TypeClasses.flip_types(a_of_eff_of_a)\n",
    "  eff_of_a = map(TypeClasses.flatten, eff_of_a_of_a)\n",
    "  eff_of_a\n",
    "end\n",
    "```"
   ]
  },
  {
   "cell_type": "markdown",
   "id": "95bac1d2",
   "metadata": {
    "slideshow": {
     "slide_type": "subslide"
    }
   },
   "source": [
    "`TypeClasses.flatten` just wraps `TypeClasses.flatmap`\n",
    "\n",
    "For implementing `TypeClasses.flip_types`, if your type supports `Base.iterate` and (only needed in case of multiple elements) also `TypeClasses.combine`, you can simply fallback to `TypeClasses.default_flip_types_...`) "
   ]
  },
  {
   "cell_type": "markdown",
   "id": "d73b7d95",
   "metadata": {
    "slideshow": {
     "slide_type": "fragment"
    }
   },
   "source": [
    "Consequently, here the actual implementation of `Vector`\n",
    "\n",
    "\n",
    "core function | description\n",
    "------------- | ------------\n",
    "`ExtensibleEffects.eff_applies(handler::Type{<:Vector}, vec::Vector) = true` | always needs to be provided explicitly\n",
    "`Base.map(f, vec::Vector) = [f(x) for x in vec]` | apply a function within the Monad.\n",
    "`Base.iterate(vec::Vector, state...) = ...` | standard iteration protocol \n",
    "`TypeClasses.pure(handler::Type{<:Vector}, value) = [value]` | wrap a plain value into the Monad of the handler, here Vector.\n",
    "`TypeClasses.flatmap(f, vec::Vector) = [x for vec2 in vec for x in vec2]` | apply a function returning a Monad and flatten everything immediately.\n",
    "`TypeClasses.combine(vec1::Vector, vec2::Vector) = [vec1; vec2]` | !!Only needed if your Monad contains multiple elements!! Combining two values of the same Monad\n",
    "`TypeClasses.flip_types(vec::Vector) = TypeClasses.default_flip_types_having_pure_combine_apEltype(vec)` | make a vector_of_something into something_of_vector "
   ]
  },
  {
   "cell_type": "markdown",
   "id": "c94b33d7",
   "metadata": {},
   "source": [
    "It is the recommended set of functions to be implemented, if possible for your type. \n",
    "\n",
    "\n",
    "#### If this is not possible, you can\n",
    "* fallback up to providing a direct implementation of `eff_flatmap` for your type\n",
    "* implement a custom handler for your type containing additionally needed information"
   ]
  },
  {
   "cell_type": "markdown",
   "id": "00122b8a",
   "metadata": {
    "slideshow": {
     "slide_type": "slide"
    }
   },
   "source": [
    "# More Extensible Effects - autorun\n",
    "\n",
    "This packages comes with the super awesome functionality that standard effects can be run automatically without explicitly calling the handler.\n",
    "\n",
    "This is implemented by using the type of the effect itself as the handler (plus some smart evaluation logic what to do in case no such handler exists.)\n",
    "\n",
    "* `@syntax_eff` enables `autorun`\n",
    "* `@syntax_eff_noautorun` disables `autorun`\n"
   ]
  },
  {
   "cell_type": "code",
   "execution_count": 32,
   "id": "b605b686",
   "metadata": {},
   "outputs": [
    {
     "data": {
      "text/plain": [
       "4-element Vector{Int64}:\n",
       "  1\n",
       "  3\n",
       "  4\n",
       " 12"
      ]
     },
     "execution_count": 32,
     "metadata": {},
     "output_type": "execute_result"
    }
   ],
   "source": [
    "@syntax_eff begin\n",
    "  x = [1,4]\n",
    "  [x, 3x]\n",
    "end"
   ]
  },
  {
   "cell_type": "markdown",
   "id": "49cc9b51",
   "metadata": {
    "slideshow": {
     "slide_type": "subslide"
    }
   },
   "source": [
    "# More Extensible Effects - contextmanager\n",
    "\n",
    "Turns out, `ContextManager` is actually one of the most difficult computational contexts to be represented within Extensible Effects.\n",
    "<br>\n",
    "This is because, within `Eff` the continuations always return another `Eff`, within which other effects still need to be handled.\n",
    "\n",
    "Consequently, the contextmanager handler `ContextManagerHandler` **needs to run last**.\n",
    "\n",
    "----------------\n",
    "\n",
    "There is further a special handler `ContextManagerCombinedHandler` which improves the execution order for memory performance."
   ]
  },
  {
   "cell_type": "code",
   "execution_count": 33,
   "id": "2d42de7e",
   "metadata": {
    "cell_style": "split"
   },
   "outputs": [
    {
     "name": "stdout",
     "output_type": "stream",
     "text": [
      "before 100\n",
      "before 105\n",
      "before 106\n",
      "before 200\n",
      "before 205\n",
      "before 206\n",
      "[(100, 100, 5, 105), (100, 100, 6, 106), (200, 200, 5, 205), (200, 200, 6, 206)]\n",
      "after 206\n",
      "after 205\n",
      "after 200\n",
      "after 106\n",
      "after 105\n",
      "after 100\n"
     ]
    },
    {
     "data": {
      "text/plain": [
       "4-element Vector{NTuple{4, Int64}}:\n",
       " (100, 100, 5, 105)\n",
       " (100, 100, 6, 106)\n",
       " (200, 200, 5, 205)\n",
       " (200, 200, 6, 206)"
      ]
     },
     "execution_count": 33,
     "metadata": {},
     "output_type": "execute_result"
    }
   ],
   "source": [
    "println_return(x) = (println(x); x)\n",
    "eff = @syntax_eff begin\n",
    "  a = [100,200]\n",
    "  b = create_context(a)\n",
    "  c = [5,6]\n",
    "  d = create_context(a + c)\n",
    "  @pure a, b, c, d\n",
    "end\n",
    "@runhandlers (ContextManagerHandler(println_return),) eff"
   ]
  },
  {
   "cell_type": "code",
   "execution_count": 34,
   "id": "9f25829f",
   "metadata": {
    "cell_style": "split"
   },
   "outputs": [
    {
     "name": "stdout",
     "output_type": "stream",
     "text": [
      "before 100\n",
      "before 105\n",
      "(100, 100, 5, 105)\n",
      "after 105\n",
      "before 106\n",
      "(100, 100, 6, 106)\n",
      "after 106\n",
      "after 100\n",
      "before 200\n",
      "before 205\n",
      "(200, 200, 5, 205)\n",
      "after 205\n",
      "before 206\n",
      "(200, 200, 6, 206)\n",
      "after 206\n",
      "after 200\n"
     ]
    },
    {
     "data": {
      "text/plain": [
       "4-element Vector{NTuple{4, Int64}}:\n",
       " (100, 100, 5, 105)\n",
       " (100, 100, 6, 106)\n",
       " (200, 200, 5, 205)\n",
       " (200, 200, 6, 206)"
      ]
     },
     "execution_count": 34,
     "metadata": {},
     "output_type": "execute_result"
    }
   ],
   "source": [
    "eff = @syntax_eff noautorun(Vector) begin\n",
    "  a = [100,200]\n",
    "  b = create_context(a)\n",
    "  c = [5,6]\n",
    "  d = create_context(a + c)\n",
    "  @pure a, b, c, d\n",
    "end\n",
    "handlers = (ContextManagerCombinedHandler(Vector, println_return),)\n",
    "@runhandlers handlers eff  "
   ]
  },
  {
   "cell_type": "markdown",
   "id": "b2e7423e",
   "metadata": {
    "slideshow": {
     "slide_type": "subslide"
    }
   },
   "source": [
    "# More Extensible Effects - More Effects\n",
    "\n",
    "ExtensibleEffects supports many more types:"
   ]
  },
  {
   "cell_type": "markdown",
   "id": "a2591855",
   "metadata": {
    "cell_style": "split"
   },
   "source": [
    "types defined in `DataTypesBasic.jl`\n",
    "* Option\n",
    "* Try\n",
    "* Either\n",
    "* Identity\n",
    "* Const\n",
    "* ContextManager"
   ]
  },
  {
   "cell_type": "markdown",
   "id": "8dec2e2a",
   "metadata": {
    "cell_style": "split"
   },
   "source": [
    "types defined in `TypeClasses.jl`\n",
    "* Callable\n",
    "* Iterable\n",
    "* State\n",
    "* Writer\n",
    "\n",
    "types defined in `Base`\n",
    "* Vector\n",
    "* Task\n",
    "* Future"
   ]
  },
  {
   "cell_type": "markdown",
   "id": "a2b35c47",
   "metadata": {
    "cell_style": "split",
    "slideshow": {
     "slide_type": "slide"
    }
   },
   "source": [
    "# Summary\n",
    "\n",
    "* Monads = easy encapsulation of an computational context\n",
    "* `map` + `flatmap` and you get nice syntax support (powered by `TypeClasses.jl`)\n",
    "* Monads do not compose well with other Monads\n",
    "* Extensible Effects do compose well\n",
    "* They do so by defining a meta-Monad called `Eff` which just stores everything for lazy execution later on.\n",
    "* handlers define how certain Monads/Effects are actually run\n",
    "* thanks to `autorun` you don't need to bother about handlers for most cases\n",
    "* `ContextManagerHandler` or `ContextManagerCombinedHandler` always needs to be the last handler to be run\n",
    "* many Monads are already implemented and work out of the box - take a look at the documentation and tests"
   ]
  },
  {
   "cell_type": "markdown",
   "id": "a7824f01",
   "metadata": {
    "cell_style": "split",
    "slideshow": {
     "slide_type": "fragment"
    }
   },
   "source": [
    "# Thank you for your attention\n",
    "\n",
    "Find more help at the repositories and documentations respectivly\n",
    "* https://github.com/JuliaFunctional/ExtensibleEffects.jl\n",
    "* https://github.com/JuliaFunctional/TypeClasses.jl\n",
    "* https://github.com/JuliaFunctional/DataTypesBasic.jl\n",
    "\n",
    "The code and tests are all easy to understand, don't hesitate to take a look in case of questions!"
   ]
  },
  {
   "cell_type": "markdown",
   "id": "0a2bd3c7",
   "metadata": {
    "cell_style": "split"
   },
   "source": [
    "<img src=\"images/jakobsweg-fisterra-fokus.png\"\n",
    "     alt=\"Stephan Sahm\"\n",
    "     style=\"float:left\"\n",
    "     width=\"20%\"/>\n",
    "\n",
    "<div style=\"margin-left: 7em !important\">\n",
    "You are always welcome to reach out\n",
    "\n",
    "- github: schlichtanders\n",
    "- mail: stephan.sahm@gmx.de\n",
    "- linkedin: https://de.linkedin.com/in/stephan-sahm-918656b7\n",
    "</div>\n"
   ]
  },
  {
   "cell_type": "code",
   "execution_count": null,
   "id": "08c9c337",
   "metadata": {
    "slideshow": {
     "slide_type": "skip"
    }
   },
   "outputs": [],
   "source": []
  }
 ],
 "metadata": {
  "celltoolbar": "Slideshow",
  "kernelspec": {
   "display_name": "Julia 1.6.1",
   "language": "julia",
   "name": "julia-1.6"
  },
  "language_info": {
   "file_extension": ".jl",
   "mimetype": "application/julia",
   "name": "julia",
   "version": "1.6.1"
  },
  "rise": {
    "autlaunch": true
  }
 },
 "nbformat": 4,
 "nbformat_minor": 5
}
