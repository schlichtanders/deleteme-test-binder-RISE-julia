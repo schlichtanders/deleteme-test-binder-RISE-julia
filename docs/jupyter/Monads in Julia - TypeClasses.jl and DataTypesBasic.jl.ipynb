{
 "cells": [
  {
   "cell_type": "markdown",
   "id": "eb8b5e26",
   "metadata": {
    "slideshow": {
     "slide_type": "slide"
    }
   },
   "source": [
    "# Monads in Julia: TypeClasses.jl and DataTypesBasic.jl\n",
    "\n",
    "An implementation of standard Monads in Julia.\n",
    "* https://github.com/JuliaFunctional/TypeClasses.jl: definition of standard interfaces + standard implementation \n",
    "* https://github.com/JuliaFunctional/DataTypesBasic.jl: definition of standard types"
   ]
  },
  {
   "cell_type": "markdown",
   "id": "9d0366a3",
   "metadata": {
    "cell_style": "split"
   },
   "source": [
    "<img src=\"images/jakobsweg-fisterra-fokus.png\"\n",
    "     alt=\"Stephan Sahm\"\n",
    "     style=\"float: right; margin-right: 3em\"\n",
    "     width=\"62%\"/>"
   ]
  },
  {
   "cell_type": "markdown",
   "id": "40685c12",
   "metadata": {
    "cell_style": "split",
    "slideshow": {
     "slide_type": "-"
    }
   },
   "source": [
    "### Stephan Sahm\n",
    "- freelancer\n",
    "- end-to-end Data & AI consultant\n",
    "- organizer of Julia User Group Munich\n",
    "\n",
    "### key interests\n",
    "- professional best practices\n",
    "- probabilistic programming\n",
    "- functional programming\n",
    "\n",
    "### you are always welcome to reach out\n",
    "- github: schlichtanders\n",
    "- mail: stephan.sahm@gmx.de\n",
    "- linkedin: https://de.linkedin.com/in/stephan-sahm-918656b7\n"
   ]
  },
  {
   "cell_type": "markdown",
   "id": "a949d75c",
   "metadata": {
    "slideshow": {
     "slide_type": "slide"
    }
   },
   "source": [
    "# TypeClasses.jl\n",
    "\n",
    "TypeClasses.jl defines standard functional interfaces which are widely used.\n",
    "\n",
    "------------------"
   ]
  },
  {
   "cell_type": "markdown",
   "id": "e6577fe1",
   "metadata": {
    "cell_style": "split"
   },
   "source": [
    "# Design Principles\n",
    "\n",
    "* reuse as much `Base` as possible\n",
    "* make it stable (hence so far we only support the most important type-classes)\n",
    "* make it simple\n",
    "* make it convenient\n",
    "\n",
    "# Functor/Applicative/Monad\n",
    "\n",
    "Typeclass | Interface | Helpers from `TypeClasses`\n",
    "--------- | --------- | --------------------------\n",
    "          | `TypeClasses.foreach = Base.foreach` | `@syntax_foreach`\n",
    "Functor, Applicative, Monad  | `TypeClasses.map = Base.map` | `@syntax_map`\n",
    "Applicative, Monad | `TypeClasses.pure`, `TypeClasses.ap` | `mapn`, `@mapn`, `tupled`, `neutral_applicative`, `combine_applicative`, `orelse_applicative`\n",
    "Monad | `TypeClasses.flatmap` | `flatten`, `↠` (\\twoheadrightarrow),  `@syntax_flatmap`"
   ]
  },
  {
   "cell_type": "markdown",
   "id": "6e507515",
   "metadata": {
    "cell_style": "split"
   },
   "source": [
    "We decided to use `flatmap` as the interface, because it is often more intuitiv to implement than `flatten` and also comes quite natural next to `map`.\n",
    "\n",
    "In order to enable simple interactions between monads, all `flatmap` implementations use `convert` before flattening.\n",
    "\n",
    "`@syntax_flatmap` provides monadic syntax (similar to haskell do-notation). However, the macro translates to `flatmap` and `map` only, and does not need `pure`.\n",
    "\n",
    "`mapn` is explicitly an extra function, because it has a generic definition which uses `pure` and `ap` and should not be confused with standard `map` in terms of Functor to avoid method ambiguation errors.\n",
    "\n",
    "Each Applicative can lift an underlying Monoid. In addition some Applicatives also define Monoids themselves (e.g. Vector). Hence, we distinguish both by adding functions `neutral_applicative`, `combine_applicative`, `orelse_applicative`.\n",
    "\n",
    "You can overload `TypeClasses.map` or `Base.map`, as you like, they are both the very same."
   ]
  },
  {
   "cell_type": "markdown",
   "id": "41373405",
   "metadata": {
    "cell_style": "split",
    "slideshow": {
     "slide_type": "subslide"
    }
   },
   "source": [
    "# Semigroup/Monoid/Alternative\n",
    "\n",
    "Typeclass | Interface | Helpers from `TypeClasses`\n",
    "--------- | --------- | --------------\n",
    "Monoid, Alternative | `TypeClasses.neutral` | \n",
    "Semigroup, Monoid | `TypeClasses.combine` | alias `⊕` (\\oplus), `reduce_monoid`, `foldr_monoid`, `foldl_monoid`\n",
    "Alternative | `TypeClasses.orelse` | alias `⊘` (\\oslash)\n",
    "\n",
    "<br>\n",
    "\n",
    "-------------\n",
    "\n",
    "We decided to use the same `neutral` for both Monoid and Alternative because of simplicity. \n",
    "\n",
    "Julia does not have stable typeparameters (for optimization a typeparameter may be inferred as Any instead of more concrete type), and hence Alternative (which is concept targeted at Functors, i.e. things with one typeparameter) becomes way more similar to Monoid."
   ]
  },
  {
   "cell_type": "markdown",
   "id": "2f7191a9",
   "metadata": {
    "cell_style": "split"
   },
   "source": [
    "# FlipTypes\n",
    "\n",
    "Typeclass | Interface | Helpers from `TypeClasses`\n",
    "--------- | --------- | --------------------------\n",
    "FlipTypes | `TypeClasses.flip_types` | `TypeClasses.default_flip_types_having_pure_combine_apEltype`\n",
    "\n",
    "<br>\n",
    "\n",
    "---------\n",
    "\n",
    "`flip_types(::A{B{C}})` should return `::B{A{C}}`. Hence the name: it flips the first two types. \n",
    "\n",
    "FlipTypes is not an official TypeClass, however proofs to be a very essential abstraction. Normally this comes with the TypeClass Traversable and is called `sequence`, however that name is not very self-explanatory and sounds quite specific.\n",
    "\n",
    "`TypeClasses.flip_types` has already one big usage in `ExtensibleEffects.jl`, for a generic implementation of effect handling."
   ]
  },
  {
   "cell_type": "markdown",
   "id": "226c546d",
   "metadata": {
    "cell_style": "center",
    "slideshow": {
     "slide_type": "slide"
    }
   },
   "source": [
    "# DataTypesBasic.jl\n",
    "\n",
    "Defines standard types typically used in functional programming. \n",
    "\n",
    "**Design principles:** stable, simple, and convenient."
   ]
  },
  {
   "cell_type": "markdown",
   "id": "765660b5",
   "metadata": {
    "cell_style": "split",
    "slideshow": {
     "slide_type": "-"
    }
   },
   "source": [
    "# Option, Try, Either\n",
    "\n",
    "* `Option`: something which can be `nothing` (name taken from Scala)\n",
    "* `Try`: something which can error (name taken from Scala)\n",
    "* `Either`: something which can short-cycle (name taken from Haskell/Scala)\n",
    "\n",
    "All three are very similar to one another in behaviour. They all define some kind of stopping behaviour and possibly return further information why to stop."
   ]
  },
  {
   "cell_type": "markdown",
   "id": "c72dda7b",
   "metadata": {
    "cell_style": "split",
    "slideshow": {
     "slide_type": "-"
    }
   },
   "source": [
    "# Identity, Const\n",
    "\n",
    "After trying several different approaches of creating new type hierarchies for each separately, we simplified the implementation to reuse the same building blocks for all three.\n",
    "\n",
    "The core are two types:\n",
    "* `Identity`: denoting normal behaviour\n",
    "* `Const`: denoting a stopping action with possible extra information\n",
    "\n",
    "The names are the same as respective Haskell types, which also have the very same behaviour when used separately. \n",
    "\n",
    "Unlike Haskell, this Julia implementation also defines interactions between `Identity` and `Const`. These interactions, together with `Union` types then define `Option`, `Try`, and `Either`."
   ]
  },
  {
   "cell_type": "markdown",
   "id": "edffb101",
   "metadata": {
    "slideshow": {
     "slide_type": "subslide"
    }
   },
   "source": [
    "# All Data Types from DataTypesBasic.jl\n",
    "\n",
    "DataType | Implementation | Helpers\n",
    "-------- | -------------- | -------\n",
    "ContextManager | `ContextManager`, encapsulating construction and destruction, aka enter and exit. | call syntax, `Base.run`, `Base.eltype`, `Base.foreach`, `Base.map`, `Base.Iterators.flatten`, only Functor/Applicative/Monad TypeClasses\n",
    "Identity | `Identity`     | `isidentity`, `Base.length`, `Base.get`, `Base.getindex`, `Base.iterate`, `Base.foreach`, `Base.map`, `Base.Iterators.flatten`, `Base.eltype`, `Base.convert`, `Base.promote_type`, `Base.promote_typejoin`, all&nbsp;TypeClasses\n",
    "Const    | `Const`        |  `Base.isconst`, `Base.length`, `Base.iterate`, `Base.foreach`, `Base.map`, `Base.Iterators.flatten`, `Base.eltype`, `Base.convert`, `Base.promote_type`, `Base.promote_typejoin`, almost all TypeClasses, but without `pure`\n",
    "Either   | `Either{L, R} = Union{Const{L}, Identity{R}}` | `Either`, `Base.eltype`, `either`, `@either`, `flip_left_right`, `iseither`, `isleft`, `isright`, `getleft`, `getright`, `getleftOption`, `getrightOption`, `getOption`, all&nbsp;TypeClasses\n",
    "Try      | `Try{T} = Union{Const{<:Exception}, Identity{T}}` | `Try`, `@Try`, `@TryCatch`,  `MultipleExceptions`, `Base.eltype`, `istry`, `issuccess`, `isfailure`, all&nbsp;TypeClasses\n",
    "Option   | `Option{T} = Union{Const{Nothing}, Identity{T}}` | `Option`, `isoption`, `issome`, `isnone`, `Base.eltype`, `iffalse`, `iftrue`, all&nbsp;TypeClasses"
   ]
  },
  {
   "cell_type": "markdown",
   "id": "75cd4177",
   "metadata": {
    "slideshow": {
     "slide_type": "fragment"
    }
   },
   "source": [
    "# All Data Types from TypeClasses.jl\n",
    "\n",
    "TypeClasses.jl defines some further standard data types as examples.\n",
    "\n",
    "DataType | Implementation | Helpers\n",
    "-------- | -------------- | -------\n",
    "DataTypesBasic.jl | everything is re-exported | everything is re-exported\n",
    "Callable | `Callable`, simple wrapper type | call syntax, `combine`, `orelse`, `map`, `pure`, `ap`, `flatmap`, no Base.eltype, no neutral, no flip_types\n",
    "Iterable | `Iterable`, simple wrapper type | whole iterator interface, including Base.IteratorEltype, Base.eltype and others, `Base.convert`, `neutral`, `combine`, `foreach`, `map`, `pure`, `ap`, `flatmap`, `flip_types`\n",
    "State    | `State`, wrapper around function s&nbsp;->&nbsp;(a,&nbsp;s) | call syntax, `getstate`, `putstate`, `combine`, `orelse`, `map`, `pure`, `ap`, `flatmap`, no Base.eltype, no neutral, no flip_types\n",
    "Writer | `Writer{Acc, Value}`, similar to Base.Pair where `Acc` supports `combine` | `Base.eltype`, `foreach`, `map`, `pure`, `ap`, `flatmap`, `flip_types`"
   ]
  },
  {
   "cell_type": "markdown",
   "id": "4349b03b",
   "metadata": {
    "cell_style": "center",
    "slideshow": {
     "slide_type": "slide"
    }
   },
   "source": [
    "# Let's see how they work"
   ]
  },
  {
   "cell_type": "markdown",
   "id": "ec5b01ff",
   "metadata": {
    "cell_style": "split"
   },
   "source": [
    "<center>\n",
    "    \n",
    "## Option\n",
    "\n",
    "</center>"
   ]
  },
  {
   "cell_type": "code",
   "execution_count": 1,
   "id": "62ad77c3",
   "metadata": {
    "cell_style": "split"
   },
   "outputs": [
    {
     "data": {
      "text/plain": [
       "(Identity(3), Const(nothing))"
      ]
     },
     "execution_count": 1,
     "metadata": {},
     "output_type": "execute_result"
    }
   ],
   "source": [
    "using TypeClasses\n",
    "\n",
    "Option(3), Option(nothing)"
   ]
  },
  {
   "cell_type": "code",
   "execution_count": 2,
   "id": "141b3d04",
   "metadata": {
    "cell_style": "split"
   },
   "outputs": [
    {
     "data": {
      "text/plain": [
       "Identity(0)"
      ]
     },
     "execution_count": 2,
     "metadata": {},
     "output_type": "execute_result"
    }
   ],
   "source": [
    "@syntax_flatmap begin\n",
    "    a = Option(1)\n",
    "    iftrue(isodd(a)) do\n",
    "        div(a - 1, 2)\n",
    "    end\n",
    "end"
   ]
  },
  {
   "cell_type": "code",
   "execution_count": 3,
   "id": "1eb67ec8",
   "metadata": {
    "cell_style": "split"
   },
   "outputs": [
    {
     "data": {
      "text/plain": [
       "Const(nothing)"
      ]
     },
     "execution_count": 3,
     "metadata": {},
     "output_type": "execute_result"
    }
   ],
   "source": [
    "@syntax_flatmap begin\n",
    "    a = Option(2)\n",
    "    isodd(a) ? Option(div(a - 1, 2)) : Option()\n",
    "end\n",
    "\n"
   ]
  },
  {
   "cell_type": "markdown",
   "id": "9eafb386",
   "metadata": {
    "cell_style": "split"
   },
   "source": [
    "<center>\n",
    "    \n",
    "## Try\n",
    "\n",
    "</center>"
   ]
  },
  {
   "cell_type": "code",
   "execution_count": 4,
   "id": "edaca63e",
   "metadata": {
    "cell_style": "split"
   },
   "outputs": [
    {
     "data": {
      "text/plain": [
       "(Identity(\"all-fine\"), Const(Thrown(ErrorException(\"wrong\"))))"
      ]
     },
     "execution_count": 4,
     "metadata": {},
     "output_type": "execute_result"
    }
   ],
   "source": [
    "success = @Try \"all-fine\"\n",
    "failure = @Try error(\"wrong\")\n",
    "success, failure"
   ]
  },
  {
   "cell_type": "code",
   "execution_count": 5,
   "id": "7c331a5a",
   "metadata": {
    "cell_style": "center"
   },
   "outputs": [
    {
     "data": {
      "text/plain": [
       "Thrown(ErrorException(\"wrong\"))\n",
       "wrong\n",
       "Stacktrace:\n",
       "  [1] \u001b[0m\u001b[1merror\u001b[22m\u001b[0m\u001b[1m(\u001b[22m\u001b[90ms\u001b[39m::\u001b[0mString\u001b[0m\u001b[1m)\u001b[22m\n",
       "\u001b[90m    @ \u001b[39m\u001b[90mBase\u001b[39m \u001b[90m./\u001b[39m\u001b[90;4merror.jl:33\u001b[0m\n",
       "  [2] top-level scope\n",
       "\u001b[90m    @ \u001b[39m\u001b[90m~/.julia/dev/DataTypesBasic/src/\u001b[39m\u001b[90;4mTry.jl:119\u001b[0m\n",
       "  [3] \u001b[0m\u001b[1meval\u001b[22m\n",
       "\u001b[90m    @ \u001b[39m\u001b[90m./\u001b[39m\u001b[90;4mboot.jl:360\u001b[0m\u001b[90m [inlined]\u001b[39m\n",
       "  [4] \u001b[0m\u001b[1minclude_string\u001b[22m\u001b[0m\u001b[1m(\u001b[22m\u001b[90mmapexpr\u001b[39m::\u001b[0mtypeof(REPL.softscope), \u001b[90mmod\u001b[39m::\u001b[0mModule, \u001b[90mcode\u001b[39m::\u001b[0mString, \u001b[90mfilename\u001b[39m::\u001b[0mString\u001b[0m\u001b[1m)\u001b[22m\n",
       "\u001b[90m    @ \u001b[39m\u001b[90mBase\u001b[39m \u001b[90m./\u001b[39m\u001b[90;4mloading.jl:1094\u001b[0m\n",
       "  [5] \u001b[0m\u001b[1msoftscope_include_string\u001b[22m\u001b[0m\u001b[1m(\u001b[22m\u001b[90mm\u001b[39m::\u001b[0mModule, \u001b[90mcode\u001b[39m::\u001b[0mString, \u001b[90mfilename\u001b[39m::\u001b[0mString\u001b[0m\u001b[1m)\u001b[22m\n",
       "\u001b[90m    @ \u001b[39m\u001b[35mSoftGlobalScope\u001b[39m \u001b[90m~/.julia/packages/SoftGlobalScope/u4UzH/src/\u001b[39m\u001b[90;4mSoftGlobalScope.jl:65\u001b[0m\n",
       "  [6] \u001b[0m\u001b[1mexecute_request\u001b[22m\u001b[0m\u001b[1m(\u001b[22m\u001b[90msocket\u001b[39m::\u001b[0mZMQ.Socket, \u001b[90mmsg\u001b[39m::\u001b[0mIJulia.Msg\u001b[0m\u001b[1m)\u001b[22m\n",
       "\u001b[90m    @ \u001b[39m\u001b[36mIJulia\u001b[39m \u001b[90m~/.julia/packages/IJulia/e8kqU/src/\u001b[39m\u001b[90;4mexecute_request.jl:67\u001b[0m\n",
       "  [7] \u001b[0m\u001b[1m#invokelatest#2\u001b[22m\n",
       "\u001b[90m    @ \u001b[39m\u001b[90m./\u001b[39m\u001b[90;4messentials.jl:708\u001b[0m\u001b[90m [inlined]\u001b[39m\n",
       "  [8] \u001b[0m\u001b[1minvokelatest\u001b[22m\n",
       "\u001b[90m    @ \u001b[39m\u001b[90m./\u001b[39m\u001b[90;4messentials.jl:706\u001b[0m\u001b[90m [inlined]\u001b[39m\n",
       "  [9] \u001b[0m\u001b[1meventloop\u001b[22m\u001b[0m\u001b[1m(\u001b[22m\u001b[90msocket\u001b[39m::\u001b[0mZMQ.Socket\u001b[0m\u001b[1m)\u001b[22m\n",
       "\u001b[90m    @ \u001b[39m\u001b[36mIJulia\u001b[39m \u001b[90m~/.julia/packages/IJulia/e8kqU/src/\u001b[39m\u001b[90;4meventloop.jl:8\u001b[0m\n",
       " [10] \u001b[0m\u001b[1m(::IJulia.var\"#15#18\")\u001b[22m\u001b[0m\u001b[1m(\u001b[22m\u001b[0m\u001b[1m)\u001b[22m\n",
       "\u001b[90m    @ \u001b[39m\u001b[36mIJulia\u001b[39m \u001b[90m./\u001b[39m\u001b[90;4mtask.jl:411\u001b[0m\n"
      ]
     },
     "execution_count": 5,
     "metadata": {},
     "output_type": "execute_result"
    }
   ],
   "source": [
    "failure[]"
   ]
  },
  {
   "cell_type": "markdown",
   "id": "bb79aaa0",
   "metadata": {
    "cell_style": "split",
    "slideshow": {
     "slide_type": "subslide"
    }
   },
   "source": [
    "<center>\n",
    "    \n",
    "## Either\n",
    "\n",
    "</center>"
   ]
  },
  {
   "cell_type": "code",
   "execution_count": 6,
   "id": "c78b4e9a",
   "metadata": {
    "cell_style": "split"
   },
   "outputs": [
    {
     "data": {
      "text/plain": [
       "(Const(\"left\"), Identity(:right))"
      ]
     },
     "execution_count": 6,
     "metadata": {},
     "output_type": "execute_result"
    }
   ],
   "source": [
    "left = Either{String}(\"left\")\n",
    "right = Either{String}(:right)\n",
    "left, right"
   ]
  },
  {
   "cell_type": "code",
   "execution_count": 7,
   "id": "40c46328",
   "metadata": {
    "cell_style": "split"
   },
   "outputs": [
    {
     "data": {
      "text/plain": [
       "Identity(:right)"
      ]
     },
     "execution_count": 7,
     "metadata": {},
     "output_type": "execute_result"
    }
   ],
   "source": [
    "@either true ? :right : \"left\""
   ]
  },
  {
   "cell_type": "code",
   "execution_count": 8,
   "id": "b644130e",
   "metadata": {
    "cell_style": "split"
   },
   "outputs": [
    {
     "data": {
      "text/plain": [
       "Const(\"left\")"
      ]
     },
     "execution_count": 8,
     "metadata": {},
     "output_type": "execute_result"
    }
   ],
   "source": [
    "@syntax_flatmap begin\n",
    "    a = either(\"left\", false, \"right\")\n",
    "    @Try error(\"a = $a\")\n",
    "end"
   ]
  },
  {
   "cell_type": "markdown",
   "id": "1f33fddf",
   "metadata": {
    "slideshow": {
     "slide_type": "fragment"
    }
   },
   "source": [
    "# Composing Monads\n",
    "\n",
    "⚠️ Monads can only compose when **later monads can be converted to former ones**.\n",
    "\n",
    "😀 As `Either`, `Try`, and `Option` all are implemented via `Identity` and `Const`, they compose naturally.\n",
    "\n",
    "😀 Composing arbitrary Monads can actually be done using [ExtensibleEffects.jl](https://github.com/JuliaFunctional/ExtensibleEffects.jl)"
   ]
  },
  {
   "cell_type": "code",
   "execution_count": 9,
   "id": "afb71d07",
   "metadata": {
    "cell_style": "split"
   },
   "outputs": [
    {
     "data": {
      "text/plain": [
       "1-element Vector{Any}:\n",
       " \"a = 2, b = 3, c = 5, d = right, e = 1\""
      ]
     },
     "execution_count": 9,
     "metadata": {},
     "output_type": "execute_result"
    }
   ],
   "source": [
    "using TypeClasses  # also loads DataTypesBasic\n",
    "\n",
    "@syntax_flatmap begin\n",
    "    (a, b) = [(0, 1), (1, 2), (2, 3), (3, 4), (4, 5)]\n",
    "    # constructs an Option\n",
    "    c = iftrue(a % 2 == 0) do\n",
    "        a + b\n",
    "    end\n",
    "    # constructs an Either\n",
    "    d = either(\"left\", b < 4, :right)\n",
    "    # constructs an Try, throws DivideError\n",
    "    e = @Try div(b, a)\n",
    "    @pure \"a = $a, b = $b, c = $c, d = $d, e = $e\" \n",
    "end"
   ]
  },
  {
   "cell_type": "code",
   "execution_count": 10,
   "id": "7dce4a61",
   "metadata": {
    "cell_style": "split",
    "scrolled": true
   },
   "outputs": [
    {
     "ename": "LoadError",
     "evalue": "MethodError: \u001b[0mCannot `convert` an object of type \n\u001b[0m  \u001b[92mIterable{Vector{Tuple{Int64, Int64}}}\u001b[39m\u001b[0m to an object of type \n\u001b[0m  \u001b[91mIdentity\u001b[39m\n\u001b[0mClosest candidates are:\n\u001b[0m  convert(::Type{var\"#s9\"} where var\"#s9\"<:Identity, \u001b[91m::ContextManager\u001b[39m) at /home/ssahm/.julia/dev/DataTypesBasic/src/convert.jl:28\n\u001b[0m  convert(::Type{Identity}, \u001b[91m::Const\u001b[39m) at /home/ssahm/.julia/dev/DataTypesBasic/src/convert.jl:26\n\u001b[0m  convert(::Type{var\"#s28\"} where var\"#s28\"<:Identity, \u001b[91m::Writer\u001b[39m) at /home/ssahm/.julia/dev/TypeClasses/src/convert.jl:10\n\u001b[0m  ...",
     "output_type": "error",
     "traceback": [
      "MethodError: \u001b[0mCannot `convert` an object of type \n\u001b[0m  \u001b[92mIterable{Vector{Tuple{Int64, Int64}}}\u001b[39m\u001b[0m to an object of type \n\u001b[0m  \u001b[91mIdentity\u001b[39m\n\u001b[0mClosest candidates are:\n\u001b[0m  convert(::Type{var\"#s9\"} where var\"#s9\"<:Identity, \u001b[91m::ContextManager\u001b[39m) at /home/ssahm/.julia/dev/DataTypesBasic/src/convert.jl:28\n\u001b[0m  convert(::Type{Identity}, \u001b[91m::Const\u001b[39m) at /home/ssahm/.julia/dev/DataTypesBasic/src/convert.jl:26\n\u001b[0m  convert(::Type{var\"#s28\"} where var\"#s28\"<:Identity, \u001b[91m::Writer\u001b[39m) at /home/ssahm/.julia/dev/TypeClasses/src/convert.jl:10\n\u001b[0m  ...",
      "",
      "Stacktrace:",
      " [1] flatmap(f::var\"#19#21\", a::Identity{Int64})",
      "   @ TypeClasses ~/.julia/dev/TypeClasses/src/TypeInstances_DataTypesBasic/Identity.jl:17",
      " [2] top-level scope",
      "   @ In[10]:2",
      " [3] eval",
      "   @ ./boot.jl:360 [inlined]",
      " [4] include_string(mapexpr::typeof(REPL.softscope), mod::Module, code::String, filename::String)",
      "   @ Base ./loading.jl:1094"
     ]
    }
   ],
   "source": [
    "@syntax_flatmap begin\n",
    "    a = Option(5)\n",
    "    b = Iterable(1:a)\n",
    "    @pure (a,b)\n",
    "end"
   ]
  },
  {
   "cell_type": "code",
   "execution_count": null,
   "id": "53ab2bd2",
   "metadata": {
    "slideshow": {
     "slide_type": "skip"
    }
   },
   "outputs": [],
   "source": []
  }
 ],
 "metadata": {
  "celltoolbar": "Slideshow",
  "kernelspec": {
   "display_name": "Julia 1.6.1",
   "language": "julia",
   "name": "julia-1.6"
  },
  "language_info": {
   "file_extension": ".jl",
   "mimetype": "application/julia",
   "name": "julia",
   "version": "1.6.1"
  },
  "rise": {
    "autolaunch": true
  }
 },
 "nbformat": 4,
 "nbformat_minor": 5
}
